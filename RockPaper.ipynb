{
 "cells": [
  {
   "cell_type": "code",
   "execution_count": 6,
   "metadata": {},
   "outputs": [
    {
     "name": "stdout",
     "output_type": "stream",
     "text": [
      "(0)Rock\n",
      "(1)Scissors\n",
      "(2)Paper\n",
      "please choose number:2\n",
      "Player choose： Paper \n",
      "Computer choose： Rock\n",
      "you win！\n"
     ]
    }
   ],
   "source": [
    "import random\n",
    "import sys\n",
    "\n",
    "allList = ['Rock', 'Scissors', 'Paper']\n",
    "gDict = {'Rock':0, 'Scissors':1, 'Paper':2}\n",
    "prompt = \"\"\"(0)Rock\n",
    "(1)Scissors\n",
    "(2)Paper\n",
    "please choose number:\"\"\"\n",
    "\n",
    "chnum = input(prompt)     \n",
    "if chnum not in '012':        \n",
    "    print ('Invalid Input!')\n",
    "    sys.exit(1)               \n",
    "\n",
    "uchoice = allList[int(chnum)]    \n",
    "cchoice = random.choice(allList)  \n",
    "print ('Player choose：',uchoice,'\\nComputer choose：',cchoice)\n",
    "if uchoice == cchoice:  \n",
    "    print ('draw！')\n",
    "elif (gDict[uchoice]-gDict[cchoice])==-1 or (gDict[uchoice]-gDict[cchoice])==2:    \n",
    "    print ('you win！')\n",
    "else:\n",
    "    print ('you lose！')\n"
   ]
  },
  {
   "cell_type": "code",
   "execution_count": null,
   "metadata": {},
   "outputs": [],
   "source": []
  }
 ],
 "metadata": {
  "kernelspec": {
   "display_name": "Python 3",
   "language": "python",
   "name": "python3"
  },
  "language_info": {
   "codemirror_mode": {
    "name": "ipython",
    "version": 3
   },
   "file_extension": ".py",
   "mimetype": "text/x-python",
   "name": "python",
   "nbconvert_exporter": "python",
   "pygments_lexer": "ipython3",
   "version": "3.7.3"
  }
 },
 "nbformat": 4,
 "nbformat_minor": 2
}
