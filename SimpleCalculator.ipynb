{
 "cells": [
  {
   "cell_type": "code",
   "execution_count": null,
   "metadata": {},
   "outputs": [
    {
     "name": "stdout",
     "output_type": "stream",
     "text": [
      "choose arithmetic：\n",
      "1、Addition\n",
      "2、Subtraction\n",
      "3、Multiplication\n",
      "4、Mivision\n"
     ]
    }
   ],
   "source": [
    "def add(x, y):\n",
    "   \n",
    " return x + y\n",
    " \n",
    "def subtract(x, y):\n",
    "\n",
    " \n",
    "   return x - y\n",
    " \n",
    "def multiply(x, y):\n",
    " \n",
    " return x * y\n",
    " \n",
    "def divide(x, y):\n",
    "  \n",
    " return x / y\n",
    " \n",
    "# 用户输入\n",
    "print(\"choose arithmetic：\")\n",
    "print(\"1、Addition\")\n",
    "print(\"2、Subtraction\")\n",
    "print(\"3、Multiplication\")\n",
    "print(\"4、Mivision\")\n",
    " \n",
    "choice = input(\"please choose(1/2/3/4):\")\n",
    " \n",
    "num1 = int(input(\"please input first number: \"))\n",
    "num2 = int(input(\"please input second number: \"))\n",
    " \n",
    "if choice == '1':\n",
    "   print(num1,\"+\",num2,\"=\", add(num1,num2))\n",
    " \n",
    "elif choice == '2':\n",
    "   print(num1,\"-\",num2,\"=\", subtract(num1,num2))\n",
    " \n",
    "elif choice == '3':\n",
    "   print(num1,\"*\",num2,\"=\", multiply(num1,num2))\n",
    " \n",
    "elif choice == '4':\n",
    "   print(num1,\"/\",num2,\"=\", divide(num1,num2))\n",
    "else:\n",
    "   print(\"error input\")"
   ]
  },
  {
   "cell_type": "code",
   "execution_count": null,
   "metadata": {},
   "outputs": [],
   "source": []
  }
 ],
 "metadata": {
  "kernelspec": {
   "display_name": "Python 3",
   "language": "python",
   "name": "python3"
  },
  "language_info": {
   "codemirror_mode": {
    "name": "ipython",
    "version": 3
   },
   "file_extension": ".py",
   "mimetype": "text/x-python",
   "name": "python",
   "nbconvert_exporter": "python",
   "pygments_lexer": "ipython3",
   "version": "3.7.3"
  }
 },
 "nbformat": 4,
 "nbformat_minor": 2
}
