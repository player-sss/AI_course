{
 "cells": [
  {
   "cell_type": "code",
   "execution_count": 2,
   "metadata": {},
   "outputs": [
    {
     "ename": "IndentationError",
     "evalue": "unexpected indent (<ipython-input-2-d3e58e15ebb3>, line 2)",
     "output_type": "error",
     "traceback": [
      "\u001b[1;36m  File \u001b[1;32m\"<ipython-input-2-d3e58e15ebb3>\"\u001b[1;36m, line \u001b[1;32m2\u001b[0m\n\u001b[1;33m    def __init__(self)\u001b[0m\n\u001b[1;37m    ^\u001b[0m\n\u001b[1;31mIndentationError\u001b[0m\u001b[1;31m:\u001b[0m unexpected indent\n"
     ]
    }
   ],
   "source": [
    "class Stack:()\n",
    "    def __init__(self)\n",
    "      self.elems == []\n",
    "    def push():\n",
    "        self.elms.append(elem)\n",
    "    def pop():\n",
    "        return self.elems.pop()\n",
    "    def is_empty():\n",
    "        return self.elems == []\n"
   ]
  },
  {
   "cell_type": "code",
   "execution_count": 9,
   "metadata": {},
   "outputs": [],
   "source": [
    "class Queue():\n",
    "      def __init__(self, head = None):\n",
    "        self.storage = [head]\n",
    "        \n",
    "    \n",
    "      def enqueue(self, new_element):\n",
    "            self.storage.append(new_element)\n",
    "            \n",
    "    \n",
    "      def peek(self):\n",
    "                return self.storage[0]\n",
    "            \n",
    "     \n",
    "      def dequeue(self):\n",
    "                return self.storage.pop(0)"
   ]
  },
  {
   "cell_type": "code",
   "execution_count": 10,
   "metadata": {},
   "outputs": [
    {
     "name": "stdout",
     "output_type": "stream",
     "text": [
      "1\n",
      "1\n",
      "2\n",
      "3\n",
      "4\n",
      "5\n"
     ]
    }
   ],
   "source": [
    "q = Queue(1)\n",
    "q.enqueue(2)\n",
    "q.enqueue(3)\n",
    "\n",
    "print(q.peek())\n",
    "\n",
    "\n",
    "print(q.dequeue())\n",
    "\n",
    "q.enqueue(4)\n",
    "\n",
    "print(q.dequeue())\n",
    "\n",
    "print(q.dequeue())\n",
    "\n",
    "print(q.dequeue())\n",
    "\n",
    "q.enqueue(5)\n",
    "\n",
    "print(q.peek())"
   ]
  },
  {
   "cell_type": "code",
   "execution_count": 12,
   "metadata": {},
   "outputs": [],
   "source": [
    "def binary_search(list1,target):\n",
    "    if list1 == None or len(list1) == 0:\n",
    "        return -1\n",
    "    left = 0\n",
    "    right = len(list1) - 1\n",
    "    while left <= right:\n",
    "        mid = int((left+right)/2)\n",
    "        if list1[mid] < target:\n",
    "                left = mid + 1\n",
    "        elif list1[mid] > target:\n",
    "            right = mid - 1\n",
    "        else:\n",
    "            return mid\n",
    "        return -1"
   ]
  },
  {
   "cell_type": "code",
   "execution_count": 13,
   "metadata": {},
   "outputs": [
    {
     "ename": "SyntaxError",
     "evalue": "invalid syntax (<ipython-input-13-728d688bf895>, line 9)",
     "output_type": "error",
     "traceback": [
      "\u001b[1;36m  File \u001b[1;32m\"<ipython-input-13-728d688bf895>\"\u001b[1;36m, line \u001b[1;32m9\u001b[0m\n\u001b[1;33m    elif\u001b[0m\n\u001b[1;37m        ^\u001b[0m\n\u001b[1;31mSyntaxError\u001b[0m\u001b[1;31m:\u001b[0m invalid syntax\n"
     ]
    }
   ],
   "source": [
    "def BinarySearch(numbers,value):\n",
    "    left = 0\n",
    "    right = len(numbers) - 1\n",
    "    \n",
    "    while(left <= right):\n",
    "        mid = int(left + (right - left)/2)\n",
    "        if(numbers[mid] == value):\n",
    "            left = mid + 1\n",
    "        elif"
   ]
  },
  {
   "cell_type": "code",
   "execution_count": 26,
   "metadata": {},
   "outputs": [
    {
     "name": "stdout",
     "output_type": "stream",
     "text": [
      "[17, 20, 26, 31, 44, 54, 55, 77, 93]\n"
     ]
    }
   ],
   "source": [
    "def bubbleSort(alist):\n",
    "    for passnum in range(len(alist)-1,0,-1):\n",
    "        for i in range(passnum):\n",
    "            if alist[i]>alist[i+1]:\n",
    "                temp = alist[i]\n",
    "                alist[i] = alist[i+1]\n",
    "                alist[i+1] = temp\n",
    "\n",
    "alist = [54,26,93,17,77,31,44,55,20]\n",
    "bubbleSort(alist)\n",
    "print(alist)\n"
   ]
  },
  {
   "cell_type": "code",
   "execution_count": 27,
   "metadata": {},
   "outputs": [
    {
     "name": "stdout",
     "output_type": "stream",
     "text": [
      "21.7 ns ± 0.519 ns per loop (mean ± std. dev. of 7 runs, 10000000 loops each)\n",
      "[1, 3, 24, 35, 45, 56, 67, 78, 99]\n"
     ]
    }
   ],
   "source": [
    "def BubbleSort(numbers):\n",
    "    lengthOfNumbers = len (numbers) - 1\n",
    "    for i in range(lengthOfNumbers):\n",
    "        for j in range(lengthOfNumbers - i):\n",
    "            if numbers[j] > numbers[j+1]:\n",
    "                numbers[j],numbers[j+1] = numbers[j+1],numbers[j]\n",
    "    return numbers\n",
    "numbers = [56,3,1,78,24,45,67,99,35]\n",
    "sorted_numbers = BubbleSort(numbers)\n",
    "%timeit sorted_numbers\n",
    "print(sorted_numbers)"
   ]
  },
  {
   "cell_type": "code",
   "execution_count": null,
   "metadata": {},
   "outputs": [],
   "source": []
  }
 ],
 "metadata": {
  "kernelspec": {
   "display_name": "Python 3",
   "language": "python",
   "name": "python3"
  },
  "language_info": {
   "codemirror_mode": {
    "name": "ipython",
    "version": 3
   },
   "file_extension": ".py",
   "mimetype": "text/x-python",
   "name": "python",
   "nbconvert_exporter": "python",
   "pygments_lexer": "ipython3",
   "version": "3.7.3"
  }
 },
 "nbformat": 4,
 "nbformat_minor": 2
}
