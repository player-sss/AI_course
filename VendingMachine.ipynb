{
 "cells": [
  {
   "cell_type": "code",
   "execution_count": null,
   "metadata": {},
   "outputs": [
    {
     "name": "stdout",
     "output_type": "stream",
     "text": [
      "please choose drinks: 1:Orange Juice 2:Mineral Water 3:Coke 4:Tea ,quit please press Q!Q\n",
      "quit choose drinks\n"
     ]
    }
   ],
   "source": [
    "def auto_buy():\n",
    "    drinks = {\"1\":110,\"2\":100,\"3\":80,\"4\":80}\n",
    "    M = ['10','50','100']\n",
    "    total = 0\n",
    "    toubi = 0\n",
    "    while True:\n",
    "        choose = input(\"please choose drinks: 1:Orange Juice 2:Mineral Water 3:Coke 4:Tea ,quit please press Q!\")\n",
    "        if choose in drinks.keys():\n",
    "            total = total+drinks[choose]\n",
    "        elif choose ==\"Q\":\n",
    "            print(\"quit choose drinks\")\n",
    "            break\n",
    "        else:\n",
    "            print(\"error\")\n",
    "    while True:\n",
    "        money = input(\"please Please pay in coins.\")\n",
    "        if money in M:\n",
    "            toubi = toubi + int(money)\n",
    "            if toubi == total:\n",
    "                print(\"You put in just right.\")\n",
    "                break\n",
    "            elif toubi < total:\n",
    "                print(\"you buy {} drinks,you have pay {},also need{}\".format(total,toubi,total-toubi))\n",
    "            else:\n",
    "                print(\"you buy {} drinks,you have pay {},change{}\".format(total,toubi,total-toubi))\n",
    "                break\n",
    "        else:\n",
    "            print(\"Coin can not recognized\")\n",
    "            \n",
    "auto_buy()"
   ]
  },
  {
   "cell_type": "code",
   "execution_count": null,
   "metadata": {},
   "outputs": [],
   "source": []
  }
 ],
 "metadata": {
  "kernelspec": {
   "display_name": "Python 3",
   "language": "python",
   "name": "python3"
  },
  "language_info": {
   "codemirror_mode": {
    "name": "ipython",
    "version": 3
   },
   "file_extension": ".py",
   "mimetype": "text/x-python",
   "name": "python",
   "nbconvert_exporter": "python",
   "pygments_lexer": "ipython3",
   "version": "3.7.3"
  }
 },
 "nbformat": 4,
 "nbformat_minor": 2
}
